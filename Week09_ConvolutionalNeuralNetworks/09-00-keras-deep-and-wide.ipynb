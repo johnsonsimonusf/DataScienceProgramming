{
 "cells": [
  {
   "cell_type": "markdown",
   "metadata": {
    "id": "w0tyra0NWJvI"
   },
   "source": [
    "# MNIST machine learning exercise\n",
    "\n",
    "In this exercise we will demonstrate the use of Keras and Keras Tune to identify a feedforward neural network that best predicts the a handwritten digit. \n",
    "\n",
    "We use the MNIST data set;\n",
    "\n",
    "![mnist data](https://upload.wikimedia.org/wikipedia/commons/2/27/MnistExamples.png)"
   ]
  },
  {
   "cell_type": "markdown",
   "metadata": {
    "tags": []
   },
   "source": [
    "# 1.0 Load and explore data (shouldn't need any transformations)"
   ]
  },
  {
   "cell_type": "markdown",
   "metadata": {},
   "source": [
    "For repeatability, set random seed for both numpy and tensorflow."
   ]
  },
  {
   "cell_type": "code",
   "execution_count": 1,
   "metadata": {
    "id": "48VnFR9cXFP0"
   },
   "outputs": [],
   "source": [
    "import numpy as np\n",
    "import tensorflow as tf\n",
    "\n",
    "np.random.seed(1)\n",
    "tf.random.set_seed(1)"
   ]
  },
  {
   "cell_type": "markdown",
   "metadata": {},
   "source": [
    "Load the MNIST digits dataset. It's originally from UCI machine learning library, but included in SKLearn."
   ]
  },
  {
   "cell_type": "code",
   "execution_count": 2,
   "metadata": {
    "colab": {
     "base_uri": "https://localhost:8080/",
     "height": 34
    },
    "id": "M8CjaVlYW2Jx",
    "outputId": "e90a4dd3-3781-477f-b02f-97ac3e75be91"
   },
   "outputs": [],
   "source": [
    "from sklearn import datasets\n",
    "\n",
    "mnist = datasets.load_digits() # sklearn includes this data set .. https://archive.ics.uci.edu/ml/datasets/Optical+Recognition+of+Handwritten+Digits"
   ]
  },
  {
   "cell_type": "code",
   "execution_count": 3,
   "metadata": {
    "tags": []
   },
   "outputs": [
    {
     "data": {
      "text/plain": [
       "sklearn.utils._bunch.Bunch"
      ]
     },
     "execution_count": 3,
     "metadata": {},
     "output_type": "execute_result"
    }
   ],
   "source": [
    "type(mnist)"
   ]
  },
  {
   "cell_type": "markdown",
   "metadata": {},
   "source": [
    "Notice that the dataset is stored in a Bunch type (see sklearn https://scikit-learn.org/stable/modules/generated/sklearn.utils.Bunch.html)\n",
    "\n",
    "We can view this dataset as similar to a dictionary; we can look at all the keys by doing the following:"
   ]
  },
  {
   "cell_type": "code",
   "execution_count": 4,
   "metadata": {
    "colab": {
     "base_uri": "https://localhost:8080/",
     "height": 34
    },
    "id": "5pPXrazAfUoL",
    "outputId": "593b0df0-7b98-4c9b-e01d-36930d653723"
   },
   "outputs": [
    {
     "data": {
      "text/plain": [
       "dict_keys(['data', 'target', 'frame', 'feature_names', 'target_names', 'images', 'DESCR'])"
      ]
     },
     "execution_count": 4,
     "metadata": {},
     "output_type": "execute_result"
    }
   ],
   "source": [
    "mnist.keys()"
   ]
  },
  {
   "cell_type": "markdown",
   "metadata": {},
   "source": [
    "Note thjat there are 1797 images."
   ]
  },
  {
   "cell_type": "markdown",
   "metadata": {},
   "source": [
    "Images are 8x8 grid of values epresenting the gray level for each pixel (16 levels of grey -- from 0 (black) to 15 (white)). "
   ]
  },
  {
   "cell_type": "code",
   "execution_count": 5,
   "metadata": {
    "colab": {
     "base_uri": "https://localhost:8080/",
     "height": 153
    },
    "id": "B0ZaSvLlfva0",
    "outputId": "7735e16a-6f2e-41cd-e4e3-55c1dbd5a89d"
   },
   "outputs": [
    {
     "data": {
      "text/plain": [
       "array([[ 0.,  0.,  5., 13.,  9.,  1.,  0.,  0.],\n",
       "       [ 0.,  0., 13., 15., 10., 15.,  5.,  0.],\n",
       "       [ 0.,  3., 15.,  2.,  0., 11.,  8.,  0.],\n",
       "       [ 0.,  4., 12.,  0.,  0.,  8.,  8.,  0.],\n",
       "       [ 0.,  5.,  8.,  0.,  0.,  9.,  8.,  0.],\n",
       "       [ 0.,  4., 11.,  0.,  1., 12.,  7.,  0.],\n",
       "       [ 0.,  2., 14.,  5., 10., 12.,  0.,  0.],\n",
       "       [ 0.,  0.,  6., 13., 10.,  0.,  0.,  0.]])"
      ]
     },
     "execution_count": 5,
     "metadata": {},
     "output_type": "execute_result"
    }
   ],
   "source": [
    "mnist.images[0]"
   ]
  },
  {
   "cell_type": "markdown",
   "metadata": {},
   "source": [
    "To analyze this, we simple turn this into a one dimensional array (so we will x1, x2, ... x63, x64). This has already been done for us, and is stored in the data key."
   ]
  },
  {
   "cell_type": "code",
   "execution_count": 6,
   "metadata": {
    "colab": {
     "base_uri": "https://localhost:8080/",
     "height": 102
    },
    "id": "sjDP19CWfT6S",
    "outputId": "f3643de4-6fc9-4810-d5d5-21fb633970fa"
   },
   "outputs": [
    {
     "data": {
      "text/plain": [
       "array([ 0.,  0.,  5., 13.,  9.,  1.,  0.,  0.,  0.,  0., 13., 15., 10.,\n",
       "       15.,  5.,  0.,  0.,  3., 15.,  2.,  0., 11.,  8.,  0.,  0.,  4.,\n",
       "       12.,  0.,  0.,  8.,  8.,  0.,  0.,  5.,  8.,  0.,  0.,  9.,  8.,\n",
       "        0.,  0.,  4., 11.,  0.,  1., 12.,  7.,  0.,  0.,  2., 14.,  5.,\n",
       "       10., 12.,  0.,  0.,  0.,  0.,  6., 13., 10.,  0.,  0.,  0.])"
      ]
     },
     "execution_count": 6,
     "metadata": {},
     "output_type": "execute_result"
    }
   ],
   "source": [
    "mnist.data[0]"
   ]
  },
  {
   "cell_type": "markdown",
   "metadata": {},
   "source": [
    "If we want the number of images, we can use the len function."
   ]
  },
  {
   "cell_type": "code",
   "execution_count": 7,
   "metadata": {
    "colab": {
     "base_uri": "https://localhost:8080/",
     "height": 34
    },
    "id": "rTQ7qNp4ffaW",
    "outputId": "3d267533-ac01-4747-abee-369aae5d3d79"
   },
   "outputs": [
    {
     "name": "stdout",
     "output_type": "stream",
     "text": [
      "1797\n"
     ]
    }
   ],
   "source": [
    "print(len(mnist.data))"
   ]
  },
  {
   "cell_type": "markdown",
   "metadata": {},
   "source": [
    "And, for each image we have a target value"
   ]
  },
  {
   "cell_type": "code",
   "execution_count": 8,
   "metadata": {
    "tags": []
   },
   "outputs": [
    {
     "name": "stdout",
     "output_type": "stream",
     "text": [
      "1797\n"
     ]
    }
   ],
   "source": [
    "print(len(mnist.target))"
   ]
  },
  {
   "cell_type": "markdown",
   "metadata": {},
   "source": [
    "To identify any issues with data imbalance, let's look at the number of observations for each digit "
   ]
  },
  {
   "cell_type": "code",
   "execution_count": 9,
   "metadata": {
    "tags": []
   },
   "outputs": [
    {
     "data": {
      "text/plain": [
       "Counter({0: 178,\n",
       "         1: 182,\n",
       "         2: 177,\n",
       "         3: 183,\n",
       "         4: 181,\n",
       "         5: 182,\n",
       "         6: 181,\n",
       "         7: 179,\n",
       "         8: 174,\n",
       "         9: 180})"
      ]
     },
     "execution_count": 9,
     "metadata": {},
     "output_type": "execute_result"
    }
   ],
   "source": [
    "import collections\n",
    "\n",
    "counts = collections.Counter(mnist.target)\n",
    "counts"
   ]
  },
  {
   "cell_type": "markdown",
   "metadata": {},
   "source": [
    "We can also look at this as a barplot to visualize the data balance..."
   ]
  },
  {
   "cell_type": "code",
   "execution_count": 10,
   "metadata": {
    "tags": []
   },
   "outputs": [
    {
     "data": {
      "image/png": "[encoded data removed]",
      "text/plain": [
       "<Figure size 700x350 with 1 Axes>"
      ]
     },
     "metadata": {},
     "output_type": "display_data"
    }
   ],
   "source": [
    "from matplotlib import pyplot as plt\n",
    "\n",
    "# Set the figure size\n",
    "plt.rcParams[\"figure.figsize\"] = [7.00, 3.50]\n",
    "plt.rcParams[\"figure.autolayout\"] = True\n",
    "\n",
    "# Plot bar chart with data points\n",
    "plt.bar(counts.keys(), counts.values())\n",
    "\n",
    "# Display the plot\n",
    "plt.show()"
   ]
  },
  {
   "cell_type": "markdown",
   "metadata": {},
   "source": [
    "We can use matplotlib to display a sample of these images from the data."
   ]
  },
  {
   "cell_type": "code",
   "execution_count": 11,
   "metadata": {
    "colab": {
     "base_uri": "https://localhost:8080/",
     "height": 1000
    },
    "id": "qW162_28WC60",
    "outputId": "c7bf771d-ebd1-4a42-e9e4-719d243b814a"
   },
   "outputs": [
    {
     "data": {
      "image/png": "[encoded data removed]",
      "text/plain": [
       "<Figure size 700x350 with 1 Axes>"
      ]
     },
     "metadata": {},
     "output_type": "display_data"
    },
    {
     "data": {
      "image/png": "[encoded data removed]",
      "text/plain": [
       "<Figure size 700x350 with 1 Axes>"
      ]
     },
     "metadata": {},
     "output_type": "display_data"
    },
    {
     "data": {
      "image/png": "[encoded data removed]",
      "text/plain": [
       "<Figure size 700x350 with 1 Axes>"
      ]
     },
     "metadata": {},
     "output_type": "display_data"
    },
    {
     "data": {
      "image/png": "[encoded data removed]",
      "text/plain": [
       "<Figure size 700x350 with 1 Axes>"
      ]
     },
     "metadata": {},
     "output_type": "display_data"
    }
   ],
   "source": [
    "for i in np.random.choice(range(0,len(mnist.images)), 4): # choose 4 at random\n",
    "    plt.imshow(mnist.images[i], cmap='gray')\n",
    "    plt.show()"
   ]
  },
  {
   "cell_type": "markdown",
   "metadata": {},
   "source": [
    "# 2.0 Model data using Keras sequential neural networks"
   ]
  },
  {
   "cell_type": "markdown",
   "metadata": {},
   "source": [
    "Split data into training and test sets"
   ]
  },
  {
   "cell_type": "code",
   "execution_count": 12,
   "metadata": {},
   "outputs": [],
   "source": [
    "from sklearn.model_selection import train_test_split\n",
    "\n",
    "X_train, X_test, y_train, y_test = train_test_split(mnist.data, mnist.target, test_size=0.2, random_state=1)"
   ]
  },
  {
   "cell_type": "markdown",
   "metadata": {},
   "source": [
    "Create a unique log directory name (to store logs for later analysis using tensorboard)"
   ]
  },
  {
   "cell_type": "markdown",
   "metadata": {},
   "source": [
    "## 2.1 Wide Network"
   ]
  },
  {
   "cell_type": "code",
   "execution_count": 13,
   "metadata": {},
   "outputs": [],
   "source": [
    "from tensorflow import keras\n",
    "from tensorflow.keras import layers\n",
    "\n",
    "model_wide = keras.models.Sequential()\n",
    "model_wide.add(keras.layers.Input(64))\n",
    "model_wide.add(keras.layers.Dense(256, activation=\"relu\"))\n",
    "model_wide.add(keras.layers.Dense(10, activation=\"softmax\"))"
   ]
  },
  {
   "cell_type": "code",
   "execution_count": 14,
   "metadata": {},
   "outputs": [
    {
     "name": "stdout",
     "output_type": "stream",
     "text": [
      "Model: \"sequential\"\n",
      "_________________________________________________________________\n",
      " Layer (type)                Output Shape              Param #   \n",
      "=================================================================\n",
      " dense (Dense)               (None, 256)               16640     \n",
      "                                                                 \n",
      " dense_1 (Dense)             (None, 10)                2570      \n",
      "                                                                 \n",
      "=================================================================\n",
      "Total params: 19,210\n",
      "Trainable params: 19,210\n",
      "Non-trainable params: 0\n",
      "_________________________________________________________________\n"
     ]
    }
   ],
   "source": [
    "model_wide.summary()"
   ]
  },
  {
   "cell_type": "code",
   "execution_count": 15,
   "metadata": {},
   "outputs": [],
   "source": [
    "model_wide.compile(loss=\"sparse_categorical_crossentropy\", optimizer=\"sgd\", metrics=[\"accuracy\"])"
   ]
  },
  {
   "cell_type": "code",
   "execution_count": 16,
   "metadata": {
    "tags": []
   },
   "outputs": [
    {
     "name": "stdout",
     "output_type": "stream",
     "text": [
      "Epoch 1/50\n",
      " 1/45 [..............................] - ETA: 5s - loss: 6.9414 - accuracy: 0.2188"
     ]
    },
    {
     "name": "stderr",
     "output_type": "stream",
     "text": [
      "2023-04-11 15:27:07.006224: W tensorflow/tsl/platform/profile_utils/cpu_utils.cc:128] Failed to get CPU frequency: 0 Hz\n"
     ]
    },
    {
     "name": "stdout",
     "output_type": "stream",
     "text": [
      "45/45 [==============================] - 0s 3ms/step - loss: 1.5086 - accuracy: 0.7251 - val_loss: 0.2379 - val_accuracy: 0.9194\n",
      "Epoch 2/50\n",
      "45/45 [==============================] - 0s 902us/step - loss: 0.2189 - accuracy: 0.9339 - val_loss: 0.1917 - val_accuracy: 0.9417\n",
      "Epoch 3/50\n",
      "45/45 [==============================] - 0s 831us/step - loss: 0.1438 - accuracy: 0.9624 - val_loss: 0.1483 - val_accuracy: 0.9528\n",
      "Epoch 4/50\n",
      "45/45 [==============================] - 0s 825us/step - loss: 0.1129 - accuracy: 0.9680 - val_loss: 0.1241 - val_accuracy: 0.9694\n",
      "Epoch 5/50\n",
      "45/45 [==============================] - 0s 815us/step - loss: 0.0964 - accuracy: 0.9756 - val_loss: 0.1163 - val_accuracy: 0.9694\n",
      "Epoch 6/50\n",
      "45/45 [==============================] - 0s 784us/step - loss: 0.0739 - accuracy: 0.9868 - val_loss: 0.1034 - val_accuracy: 0.9722\n",
      "Epoch 7/50\n",
      "45/45 [==============================] - 0s 795us/step - loss: 0.0643 - accuracy: 0.9868 - val_loss: 0.1010 - val_accuracy: 0.9750\n",
      "Epoch 8/50\n",
      "45/45 [==============================] - 0s 808us/step - loss: 0.0544 - accuracy: 0.9882 - val_loss: 0.1085 - val_accuracy: 0.9639\n",
      "Epoch 9/50\n",
      "45/45 [==============================] - 0s 814us/step - loss: 0.0492 - accuracy: 0.9910 - val_loss: 0.0861 - val_accuracy: 0.9694\n",
      "Epoch 10/50\n",
      "45/45 [==============================] - 0s 766us/step - loss: 0.0433 - accuracy: 0.9923 - val_loss: 0.0937 - val_accuracy: 0.9694\n",
      "Epoch 11/50\n",
      "45/45 [==============================] - 0s 798us/step - loss: 0.0387 - accuracy: 0.9958 - val_loss: 0.0859 - val_accuracy: 0.9778\n",
      "Epoch 12/50\n",
      "45/45 [==============================] - 0s 765us/step - loss: 0.0355 - accuracy: 0.9958 - val_loss: 0.0804 - val_accuracy: 0.9722\n",
      "Epoch 13/50\n",
      "45/45 [==============================] - 0s 764us/step - loss: 0.0319 - accuracy: 0.9965 - val_loss: 0.0814 - val_accuracy: 0.9722\n",
      "Epoch 14/50\n",
      "45/45 [==============================] - 0s 763us/step - loss: 0.0278 - accuracy: 0.9972 - val_loss: 0.0857 - val_accuracy: 0.9778\n",
      "Epoch 15/50\n",
      "45/45 [==============================] - 0s 755us/step - loss: 0.0283 - accuracy: 0.9958 - val_loss: 0.0799 - val_accuracy: 0.9750\n",
      "Epoch 16/50\n",
      "45/45 [==============================] - 0s 749us/step - loss: 0.0265 - accuracy: 0.9965 - val_loss: 0.0800 - val_accuracy: 0.9750\n",
      "Epoch 17/50\n",
      "45/45 [==============================] - 0s 752us/step - loss: 0.0239 - accuracy: 0.9979 - val_loss: 0.0817 - val_accuracy: 0.9750\n",
      "Epoch 18/50\n",
      "45/45 [==============================] - 0s 780us/step - loss: 0.0229 - accuracy: 0.9965 - val_loss: 0.0778 - val_accuracy: 0.9750\n",
      "Epoch 19/50\n",
      "45/45 [==============================] - 0s 766us/step - loss: 0.0203 - accuracy: 0.9979 - val_loss: 0.0778 - val_accuracy: 0.9722\n",
      "Epoch 20/50\n",
      "45/45 [==============================] - 0s 761us/step - loss: 0.0196 - accuracy: 0.9993 - val_loss: 0.0753 - val_accuracy: 0.9722\n",
      "Epoch 21/50\n",
      "45/45 [==============================] - 0s 768us/step - loss: 0.0185 - accuracy: 0.9979 - val_loss: 0.0797 - val_accuracy: 0.9750\n",
      "Epoch 22/50\n",
      "45/45 [==============================] - 0s 778us/step - loss: 0.0174 - accuracy: 0.9993 - val_loss: 0.0744 - val_accuracy: 0.9722\n",
      "Epoch 23/50\n",
      "45/45 [==============================] - 0s 758us/step - loss: 0.0166 - accuracy: 0.9993 - val_loss: 0.0759 - val_accuracy: 0.9722\n",
      "Epoch 24/50\n",
      "45/45 [==============================] - 0s 755us/step - loss: 0.0158 - accuracy: 1.0000 - val_loss: 0.0779 - val_accuracy: 0.9722\n",
      "Epoch 25/50\n",
      "45/45 [==============================] - 0s 770us/step - loss: 0.0153 - accuracy: 0.9993 - val_loss: 0.0782 - val_accuracy: 0.9750\n",
      "Epoch 26/50\n",
      "45/45 [==============================] - 0s 761us/step - loss: 0.0148 - accuracy: 0.9993 - val_loss: 0.0754 - val_accuracy: 0.9722\n",
      "Epoch 27/50\n",
      "45/45 [==============================] - 0s 807us/step - loss: 0.0137 - accuracy: 1.0000 - val_loss: 0.0757 - val_accuracy: 0.9722\n",
      "Epoch 28/50\n",
      "45/45 [==============================] - 0s 777us/step - loss: 0.0134 - accuracy: 0.9993 - val_loss: 0.0756 - val_accuracy: 0.9750\n",
      "Epoch 29/50\n",
      "45/45 [==============================] - 0s 754us/step - loss: 0.0129 - accuracy: 1.0000 - val_loss: 0.0726 - val_accuracy: 0.9722\n",
      "Epoch 30/50\n",
      "45/45 [==============================] - 0s 765us/step - loss: 0.0121 - accuracy: 1.0000 - val_loss: 0.0773 - val_accuracy: 0.9750\n",
      "Epoch 31/50\n",
      "45/45 [==============================] - 0s 762us/step - loss: 0.0123 - accuracy: 1.0000 - val_loss: 0.0734 - val_accuracy: 0.9722\n",
      "Epoch 32/50\n",
      "45/45 [==============================] - 0s 991us/step - loss: 0.0115 - accuracy: 1.0000 - val_loss: 0.0726 - val_accuracy: 0.9750\n",
      "Epoch 33/50\n",
      "45/45 [==============================] - 0s 921us/step - loss: 0.0111 - accuracy: 1.0000 - val_loss: 0.0741 - val_accuracy: 0.9722\n",
      "Epoch 34/50\n",
      "45/45 [==============================] - 0s 760us/step - loss: 0.0105 - accuracy: 1.0000 - val_loss: 0.0713 - val_accuracy: 0.9722\n",
      "Epoch 35/50\n",
      "45/45 [==============================] - 0s 746us/step - loss: 0.0104 - accuracy: 1.0000 - val_loss: 0.0713 - val_accuracy: 0.9750\n",
      "Epoch 36/50\n",
      "45/45 [==============================] - 0s 766us/step - loss: 0.0095 - accuracy: 1.0000 - val_loss: 0.0707 - val_accuracy: 0.9750\n",
      "Epoch 37/50\n",
      "45/45 [==============================] - 0s 749us/step - loss: 0.0097 - accuracy: 1.0000 - val_loss: 0.0714 - val_accuracy: 0.9750\n",
      "Epoch 38/50\n",
      "45/45 [==============================] - 0s 748us/step - loss: 0.0094 - accuracy: 1.0000 - val_loss: 0.0710 - val_accuracy: 0.9750\n",
      "Epoch 39/50\n",
      "45/45 [==============================] - 0s 754us/step - loss: 0.0093 - accuracy: 1.0000 - val_loss: 0.0714 - val_accuracy: 0.9750\n",
      "Epoch 40/50\n",
      "45/45 [==============================] - 0s 775us/step - loss: 0.0089 - accuracy: 1.0000 - val_loss: 0.0719 - val_accuracy: 0.9750\n",
      "Epoch 41/50\n",
      "45/45 [==============================] - 0s 769us/step - loss: 0.0086 - accuracy: 1.0000 - val_loss: 0.0716 - val_accuracy: 0.9750\n",
      "Epoch 42/50\n",
      "45/45 [==============================] - 0s 748us/step - loss: 0.0085 - accuracy: 1.0000 - val_loss: 0.0710 - val_accuracy: 0.9778\n",
      "Epoch 43/50\n",
      "45/45 [==============================] - 0s 752us/step - loss: 0.0084 - accuracy: 1.0000 - val_loss: 0.0705 - val_accuracy: 0.9750\n",
      "Epoch 44/50\n",
      "45/45 [==============================] - 0s 763us/step - loss: 0.0081 - accuracy: 1.0000 - val_loss: 0.0697 - val_accuracy: 0.9778\n",
      "Epoch 45/50\n",
      "45/45 [==============================] - 0s 757us/step - loss: 0.0077 - accuracy: 1.0000 - val_loss: 0.0690 - val_accuracy: 0.9778\n",
      "Epoch 46/50\n",
      "45/45 [==============================] - 0s 771us/step - loss: 0.0076 - accuracy: 1.0000 - val_loss: 0.0690 - val_accuracy: 0.9750\n",
      "Epoch 47/50\n",
      "45/45 [==============================] - 0s 742us/step - loss: 0.0074 - accuracy: 1.0000 - val_loss: 0.0690 - val_accuracy: 0.9750\n",
      "Epoch 48/50\n",
      "45/45 [==============================] - 0s 737us/step - loss: 0.0073 - accuracy: 1.0000 - val_loss: 0.0690 - val_accuracy: 0.9750\n",
      "Epoch 49/50\n",
      "45/45 [==============================] - 0s 802us/step - loss: 0.0072 - accuracy: 1.0000 - val_loss: 0.0688 - val_accuracy: 0.9750\n",
      "Epoch 50/50\n",
      "45/45 [==============================] - 0s 756us/step - loss: 0.0071 - accuracy: 1.0000 - val_loss: 0.0682 - val_accuracy: 0.9750\n"
     ]
    }
   ],
   "source": [
    "history = model_wide.fit(X_train, y_train, epochs=50, validation_data=(X_test, y_test))"
   ]
  },
  {
   "cell_type": "code",
   "execution_count": 17,
   "metadata": {
    "tags": []
   },
   "outputs": [
    {
     "name": "stdout",
     "output_type": "stream",
     "text": [
      "12/12 [==============================] - 0s 516us/step - loss: 0.0682 - accuracy: 0.9750\n"
     ]
    }
   ],
   "source": [
    "loss, accuracy = model_wide.evaluate(X_test, y_test)"
   ]
  },
  {
   "cell_type": "code",
   "execution_count": 18,
   "metadata": {
    "tags": []
   },
   "outputs": [
    {
     "name": "stdout",
     "output_type": "stream",
     "text": [
      "Loss 0.06816\n",
      "Accuracy 0.9750\n"
     ]
    }
   ],
   "source": [
    "print(f\"Loss {loss:.5f}\\nAccuracy {accuracy:.4f}\")"
   ]
  },
  {
   "cell_type": "code",
   "execution_count": 19,
   "metadata": {
    "tags": []
   },
   "outputs": [
    {
     "name": "stdout",
     "output_type": "stream",
     "text": [
      "Model: \"sequential\"\n",
      "_________________________________________________________________\n",
      " Layer (type)                Output Shape              Param #   \n",
      "=================================================================\n",
      " dense (Dense)               (None, 256)               16640     \n",
      "                                                                 \n",
      " dense_1 (Dense)             (None, 10)                2570      \n",
      "                                                                 \n",
      "=================================================================\n",
      "Total params: 19,210\n",
      "Trainable params: 19,210\n",
      "Non-trainable params: 0\n",
      "_________________________________________________________________\n"
     ]
    }
   ],
   "source": [
    "model_wide.summary()"
   ]
  },
  {
   "cell_type": "code",
   "execution_count": 20,
   "metadata": {},
   "outputs": [
    {
     "name": "stdout",
     "output_type": "stream",
     "text": [
      "[(0, 43), (1, 35), (2, 36), (3, 41), (4, 38), (5, 30), (6, 37), (7, 37), (8, 29), (9, 34)]\n"
     ]
    }
   ],
   "source": [
    "import collections\n",
    "\n",
    "# for reference, list the frequency of each digit found in the y_test data\n",
    "print(sorted(collections.Counter(y_test).items(), key=lambda i: i[0]))"
   ]
  },
  {
   "cell_type": "code",
   "execution_count": 21,
   "metadata": {},
   "outputs": [
    {
     "name": "stdout",
     "output_type": "stream",
     "text": [
      "12/12 [==============================] - 0s 428us/step\n"
     ]
    },
    {
     "data": {
      "image/png": "[encoded data removed]",
      "text/plain": [
       "<Figure size 700x350 with 2 Axes>"
      ]
     },
     "metadata": {},
     "output_type": "display_data"
    }
   ],
   "source": [
    "from sklearn.metrics import ConfusionMatrixDisplay\n",
    "from sklearn.metrics import confusion_matrix\n",
    "\n",
    "# display the confusion matrix\n",
    "y_pred = model_wide.predict(X_test).argmax(axis=1)\n",
    "cm = confusion_matrix(y_test, y_pred)\n",
    "disp = ConfusionMatrixDisplay(confusion_matrix=cm)\n",
    "disp.plot(cmap=plt.cm.Blues)\n",
    "plt.show()"
   ]
  },
  {
   "cell_type": "code",
   "execution_count": 22,
   "metadata": {},
   "outputs": [
    {
     "name": "stdout",
     "output_type": "stream",
     "text": [
      "              precision    recall  f1-score   support\n",
      "\n",
      "           0     1.0000    0.9767    0.9882        43\n",
      "           1     0.9706    0.9429    0.9565        35\n",
      "           2     0.9730    1.0000    0.9863        36\n",
      "           3     0.9756    0.9756    0.9756        41\n",
      "           4     0.9744    1.0000    0.9870        38\n",
      "           5     0.9062    0.9667    0.9355        30\n",
      "           6     1.0000    1.0000    1.0000        37\n",
      "           7     1.0000    0.9730    0.9863        37\n",
      "           8     0.9643    0.9310    0.9474        29\n",
      "           9     0.9706    0.9706    0.9706        34\n",
      "\n",
      "    accuracy                         0.9750       360\n",
      "   macro avg     0.9735    0.9736    0.9733       360\n",
      "weighted avg     0.9755    0.9750    0.9750       360\n",
      "\n"
     ]
    }
   ],
   "source": [
    "from sklearn.metrics import classification_report\n",
    "\n",
    "print(classification_report(y_test, y_pred, digits=4))"
   ]
  },
  {
   "cell_type": "markdown",
   "metadata": {},
   "source": [
    "## 2.2 Deep Network"
   ]
  },
  {
   "cell_type": "code",
   "execution_count": 23,
   "metadata": {
    "tags": []
   },
   "outputs": [],
   "source": [
    "from tensorflow import keras\n",
    "from tensorflow.keras import layers"
   ]
  },
  {
   "cell_type": "code",
   "execution_count": 24,
   "metadata": {
    "tags": []
   },
   "outputs": [],
   "source": [
    "model_deep = keras.models.Sequential()\n",
    "model_deep.add(keras.layers.Input(64))\n",
    "model_deep.add(keras.layers.Dense(200, activation=\"relu\"))\n",
    "model_deep.add(keras.layers.Dense(200, activation=\"relu\"))\n",
    "model_deep.add(keras.layers.Dense(200, activation=\"relu\"))\n",
    "model_deep.add(keras.layers.Dense(10, activation=\"softmax\"))"
   ]
  },
  {
   "cell_type": "markdown",
   "metadata": {},
   "source": [
    "We can also create this network using the syntax below..."
   ]
  },
  {
   "cell_type": "code",
   "execution_count": 25,
   "metadata": {},
   "outputs": [],
   "source": [
    "input_ = keras.layers.Input(64)\n",
    "hidden1 = keras.layers.Dense(128, activation=\"relu\")(input_)\n",
    "hidden2 = keras.layers.Dense(128, activation=\"relu\")(hidden1)\n",
    "hidden3 = keras.layers.Dense(128, activation=\"relu\")(hidden2)\n",
    "hidden4 = keras.layers.Dense(128, activation=\"relu\")(hidden3)\n",
    "output = keras.layers.Dense(10, activation=\"softmax\")(hidden4)\n",
    "model_deep = keras.Model(inputs=[input_], outputs=[output])"
   ]
  },
  {
   "cell_type": "code",
   "execution_count": 26,
   "metadata": {
    "tags": []
   },
   "outputs": [],
   "source": [
    "model_deep.compile(loss=\"sparse_categorical_crossentropy\", optimizer=\"sgd\", metrics=[\"accuracy\"])"
   ]
  },
  {
   "cell_type": "code",
   "execution_count": 27,
   "metadata": {
    "tags": []
   },
   "outputs": [
    {
     "name": "stdout",
     "output_type": "stream",
     "text": [
      "Epoch 1/50\n",
      "45/45 [==============================] - 0s 2ms/step - loss: 1.0852 - accuracy: 0.6848 - val_loss: 0.4058 - val_accuracy: 0.9000\n",
      "Epoch 2/50\n",
      "45/45 [==============================] - 0s 1ms/step - loss: 0.3397 - accuracy: 0.9047 - val_loss: 0.2361 - val_accuracy: 0.9306\n",
      "Epoch 3/50\n",
      "45/45 [==============================] - 0s 999us/step - loss: 0.2128 - accuracy: 0.9429 - val_loss: 0.1629 - val_accuracy: 0.9528\n",
      "Epoch 4/50\n",
      "45/45 [==============================] - 0s 983us/step - loss: 0.1448 - accuracy: 0.9631 - val_loss: 0.1458 - val_accuracy: 0.9528\n",
      "Epoch 5/50\n",
      "45/45 [==============================] - 0s 968us/step - loss: 0.1241 - accuracy: 0.9694 - val_loss: 0.1100 - val_accuracy: 0.9722\n",
      "Epoch 6/50\n",
      "45/45 [==============================] - 0s 999us/step - loss: 0.0913 - accuracy: 0.9791 - val_loss: 0.0910 - val_accuracy: 0.9778\n",
      "Epoch 7/50\n",
      "45/45 [==============================] - 0s 988us/step - loss: 0.0785 - accuracy: 0.9812 - val_loss: 0.1220 - val_accuracy: 0.9667\n",
      "Epoch 8/50\n",
      "45/45 [==============================] - 0s 998us/step - loss: 0.0651 - accuracy: 0.9826 - val_loss: 0.1231 - val_accuracy: 0.9694\n",
      "Epoch 9/50\n",
      "45/45 [==============================] - 0s 947us/step - loss: 0.0583 - accuracy: 0.9882 - val_loss: 0.0763 - val_accuracy: 0.9750\n",
      "Epoch 10/50\n",
      "45/45 [==============================] - 0s 961us/step - loss: 0.0516 - accuracy: 0.9889 - val_loss: 0.0964 - val_accuracy: 0.9722\n",
      "Epoch 11/50\n",
      "45/45 [==============================] - 0s 948us/step - loss: 0.0414 - accuracy: 0.9923 - val_loss: 0.0956 - val_accuracy: 0.9694\n",
      "Epoch 12/50\n",
      "45/45 [==============================] - 0s 968us/step - loss: 0.0391 - accuracy: 0.9930 - val_loss: 0.0707 - val_accuracy: 0.9806\n",
      "Epoch 13/50\n",
      "45/45 [==============================] - 0s 948us/step - loss: 0.0352 - accuracy: 0.9910 - val_loss: 0.0754 - val_accuracy: 0.9694\n",
      "Epoch 14/50\n",
      "45/45 [==============================] - 0s 952us/step - loss: 0.0266 - accuracy: 0.9951 - val_loss: 0.0796 - val_accuracy: 0.9722\n",
      "Epoch 15/50\n",
      "45/45 [==============================] - 0s 951us/step - loss: 0.0276 - accuracy: 0.9951 - val_loss: 0.0753 - val_accuracy: 0.9778\n",
      "Epoch 16/50\n",
      "45/45 [==============================] - 0s 932us/step - loss: 0.0255 - accuracy: 0.9958 - val_loss: 0.0715 - val_accuracy: 0.9778\n",
      "Epoch 17/50\n",
      "45/45 [==============================] - 0s 930us/step - loss: 0.0205 - accuracy: 0.9972 - val_loss: 0.0768 - val_accuracy: 0.9778\n",
      "Epoch 18/50\n",
      "45/45 [==============================] - 0s 932us/step - loss: 0.0186 - accuracy: 0.9979 - val_loss: 0.0674 - val_accuracy: 0.9778\n",
      "Epoch 19/50\n",
      "45/45 [==============================] - 0s 994us/step - loss: 0.0159 - accuracy: 1.0000 - val_loss: 0.0655 - val_accuracy: 0.9806\n",
      "Epoch 20/50\n",
      "45/45 [==============================] - 0s 994us/step - loss: 0.0154 - accuracy: 0.9986 - val_loss: 0.0638 - val_accuracy: 0.9778\n",
      "Epoch 21/50\n",
      "45/45 [==============================] - 0s 952us/step - loss: 0.0138 - accuracy: 0.9993 - val_loss: 0.0773 - val_accuracy: 0.9750\n",
      "Epoch 22/50\n",
      "45/45 [==============================] - 0s 994us/step - loss: 0.0120 - accuracy: 1.0000 - val_loss: 0.0641 - val_accuracy: 0.9806\n",
      "Epoch 23/50\n",
      "45/45 [==============================] - 0s 962us/step - loss: 0.0110 - accuracy: 0.9993 - val_loss: 0.0680 - val_accuracy: 0.9694\n",
      "Epoch 24/50\n",
      "45/45 [==============================] - 0s 944us/step - loss: 0.0103 - accuracy: 1.0000 - val_loss: 0.0755 - val_accuracy: 0.9778\n",
      "Epoch 25/50\n",
      "45/45 [==============================] - 0s 956us/step - loss: 0.0099 - accuracy: 1.0000 - val_loss: 0.0671 - val_accuracy: 0.9750\n",
      "Epoch 26/50\n",
      "45/45 [==============================] - 0s 956us/step - loss: 0.0092 - accuracy: 1.0000 - val_loss: 0.0628 - val_accuracy: 0.9806\n",
      "Epoch 27/50\n",
      "45/45 [==============================] - 0s 947us/step - loss: 0.0087 - accuracy: 1.0000 - val_loss: 0.0716 - val_accuracy: 0.9750\n",
      "Epoch 28/50\n",
      "45/45 [==============================] - 0s 942us/step - loss: 0.0083 - accuracy: 1.0000 - val_loss: 0.0628 - val_accuracy: 0.9750\n",
      "Epoch 29/50\n",
      "45/45 [==============================] - 0s 956us/step - loss: 0.0073 - accuracy: 1.0000 - val_loss: 0.0621 - val_accuracy: 0.9778\n",
      "Epoch 30/50\n",
      "45/45 [==============================] - 0s 975us/step - loss: 0.0069 - accuracy: 1.0000 - val_loss: 0.0649 - val_accuracy: 0.9750\n",
      "Epoch 31/50\n",
      "45/45 [==============================] - 0s 1ms/step - loss: 0.0068 - accuracy: 1.0000 - val_loss: 0.0594 - val_accuracy: 0.9806\n",
      "Epoch 32/50\n",
      "45/45 [==============================] - 0s 961us/step - loss: 0.0061 - accuracy: 1.0000 - val_loss: 0.0607 - val_accuracy: 0.9806\n",
      "Epoch 33/50\n",
      "45/45 [==============================] - 0s 953us/step - loss: 0.0060 - accuracy: 1.0000 - val_loss: 0.0676 - val_accuracy: 0.9750\n",
      "Epoch 34/50\n",
      "45/45 [==============================] - 0s 971us/step - loss: 0.0059 - accuracy: 1.0000 - val_loss: 0.0582 - val_accuracy: 0.9806\n",
      "Epoch 35/50\n",
      "45/45 [==============================] - 0s 989us/step - loss: 0.0056 - accuracy: 1.0000 - val_loss: 0.0599 - val_accuracy: 0.9806\n",
      "Epoch 36/50\n",
      "45/45 [==============================] - 0s 978us/step - loss: 0.0051 - accuracy: 1.0000 - val_loss: 0.0576 - val_accuracy: 0.9778\n",
      "Epoch 37/50\n",
      "45/45 [==============================] - 0s 947us/step - loss: 0.0050 - accuracy: 1.0000 - val_loss: 0.0589 - val_accuracy: 0.9778\n",
      "Epoch 38/50\n",
      "45/45 [==============================] - 0s 957us/step - loss: 0.0047 - accuracy: 1.0000 - val_loss: 0.0619 - val_accuracy: 0.9778\n",
      "Epoch 39/50\n",
      "45/45 [==============================] - 0s 943us/step - loss: 0.0048 - accuracy: 1.0000 - val_loss: 0.0618 - val_accuracy: 0.9750\n",
      "Epoch 40/50\n",
      "45/45 [==============================] - 0s 931us/step - loss: 0.0045 - accuracy: 1.0000 - val_loss: 0.0611 - val_accuracy: 0.9778\n",
      "Epoch 41/50\n",
      "45/45 [==============================] - 0s 926us/step - loss: 0.0043 - accuracy: 1.0000 - val_loss: 0.0634 - val_accuracy: 0.9750\n",
      "Epoch 42/50\n",
      "45/45 [==============================] - 0s 940us/step - loss: 0.0043 - accuracy: 1.0000 - val_loss: 0.0620 - val_accuracy: 0.9750\n",
      "Epoch 43/50\n",
      "45/45 [==============================] - 0s 926us/step - loss: 0.0041 - accuracy: 1.0000 - val_loss: 0.0584 - val_accuracy: 0.9778\n",
      "Epoch 44/50\n",
      "45/45 [==============================] - 0s 932us/step - loss: 0.0040 - accuracy: 1.0000 - val_loss: 0.0615 - val_accuracy: 0.9806\n",
      "Epoch 45/50\n",
      "45/45 [==============================] - 0s 946us/step - loss: 0.0038 - accuracy: 1.0000 - val_loss: 0.0602 - val_accuracy: 0.9778\n",
      "Epoch 46/50\n",
      "45/45 [==============================] - 0s 951us/step - loss: 0.0036 - accuracy: 1.0000 - val_loss: 0.0589 - val_accuracy: 0.9778\n",
      "Epoch 47/50\n",
      "45/45 [==============================] - 0s 939us/step - loss: 0.0035 - accuracy: 1.0000 - val_loss: 0.0592 - val_accuracy: 0.9778\n",
      "Epoch 48/50\n",
      "45/45 [==============================] - 0s 948us/step - loss: 0.0035 - accuracy: 1.0000 - val_loss: 0.0598 - val_accuracy: 0.9778\n",
      "Epoch 49/50\n",
      "45/45 [==============================] - 0s 949us/step - loss: 0.0033 - accuracy: 1.0000 - val_loss: 0.0592 - val_accuracy: 0.9778\n",
      "Epoch 50/50\n",
      "45/45 [==============================] - 0s 945us/step - loss: 0.0033 - accuracy: 1.0000 - val_loss: 0.0587 - val_accuracy: 0.9778\n"
     ]
    }
   ],
   "source": [
    "history = model_deep.fit(X_train, y_train, epochs=50, validation_data=(X_test, y_test))\n"
   ]
  },
  {
   "cell_type": "code",
   "execution_count": 28,
   "metadata": {
    "tags": []
   },
   "outputs": [
    {
     "name": "stdout",
     "output_type": "stream",
     "text": [
      "12/12 [==============================] - 0s 526us/step - loss: 0.0587 - accuracy: 0.9778\n",
      "Loss 0.05867\n",
      "Accuracy 0.9778\n"
     ]
    }
   ],
   "source": [
    "loss, accuracy = model_deep.evaluate(X_test, y_test)\n",
    "print(f\"Loss {loss:.5f}\\nAccuracy {accuracy:.4f}\")"
   ]
  },
  {
   "cell_type": "code",
   "execution_count": 29,
   "metadata": {
    "tags": []
   },
   "outputs": [
    {
     "name": "stdout",
     "output_type": "stream",
     "text": [
      "Model: \"model\"\n",
      "_________________________________________________________________\n",
      " Layer (type)                Output Shape              Param #   \n",
      "=================================================================\n",
      " input_3 (InputLayer)        [(None, 64)]              0         \n",
      "                                                                 \n",
      " dense_6 (Dense)             (None, 128)               8320      \n",
      "                                                                 \n",
      " dense_7 (Dense)             (None, 128)               16512     \n",
      "                                                                 \n",
      " dense_8 (Dense)             (None, 128)               16512     \n",
      "                                                                 \n",
      " dense_9 (Dense)             (None, 128)               16512     \n",
      "                                                                 \n",
      " dense_10 (Dense)            (None, 10)                1290      \n",
      "                                                                 \n",
      "=================================================================\n",
      "Total params: 59,146\n",
      "Trainable params: 59,146\n",
      "Non-trainable params: 0\n",
      "_________________________________________________________________\n"
     ]
    }
   ],
   "source": [
    "model_deep.summary()"
   ]
  },
  {
   "cell_type": "code",
   "execution_count": 30,
   "metadata": {
    "tags": []
   },
   "outputs": [
    {
     "name": "stdout",
     "output_type": "stream",
     "text": [
      "[(0, 43), (1, 35), (2, 36), (3, 41), (4, 38), (5, 30), (6, 37), (7, 37), (8, 29), (9, 34)]\n",
      "12/12 [==============================] - 0s 511us/step\n"
     ]
    },
    {
     "data": {
      "image/png": "[encoded data removed]",
      "text/plain": [
       "<Figure size 700x350 with 2 Axes>"
      ]
     },
     "metadata": {},
     "output_type": "display_data"
    }
   ],
   "source": [
    "from sklearn.metrics import ConfusionMatrixDisplay\n",
    "from sklearn.metrics import confusion_matrix\n",
    "\n",
    "# for reference, list the frequency of each digit found in the y_test data\n",
    "print(sorted(collections.Counter(y_test).items(), key=lambda i: i[0]))\n",
    "\n",
    "# display the confusion matrix\n",
    "y_pred = model_deep.predict(X_test).argmax(axis=1)\n",
    "cm = confusion_matrix(y_test, y_pred)\n",
    "disp = ConfusionMatrixDisplay(confusion_matrix=cm)\n",
    "disp.plot(cmap=plt.cm.Blues)\n",
    "plt.show()"
   ]
  },
  {
   "cell_type": "code",
   "execution_count": 31,
   "metadata": {},
   "outputs": [
    {
     "name": "stdout",
     "output_type": "stream",
     "text": [
      "              precision    recall  f1-score   support\n",
      "\n",
      "           0     1.0000    0.9767    0.9882        43\n",
      "           1     1.0000    0.9714    0.9855        35\n",
      "           2     1.0000    1.0000    1.0000        36\n",
      "           3     1.0000    0.9756    0.9877        41\n",
      "           4     0.9500    1.0000    0.9744        38\n",
      "           5     0.9375    1.0000    0.9677        30\n",
      "           6     1.0000    1.0000    1.0000        37\n",
      "           7     1.0000    0.9459    0.9722        37\n",
      "           8     0.9310    0.9310    0.9310        29\n",
      "           9     0.9429    0.9706    0.9565        34\n",
      "\n",
      "    accuracy                         0.9778       360\n",
      "   macro avg     0.9761    0.9771    0.9763       360\n",
      "weighted avg     0.9786    0.9778    0.9779       360\n",
      "\n"
     ]
    }
   ],
   "source": [
    "from sklearn.metrics import classification_report\n",
    "\n",
    "print(classification_report(y_test, y_pred, digits=4))"
   ]
  },
  {
   "cell_type": "markdown",
   "metadata": {},
   "source": [
    "## 2.3 Wide and Deep Network"
   ]
  },
  {
   "cell_type": "code",
   "execution_count": 32,
   "metadata": {
    "tags": []
   },
   "outputs": [],
   "source": [
    "from tensorflow import keras\n",
    "from tensorflow.keras import layers"
   ]
  },
  {
   "cell_type": "code",
   "execution_count": 33,
   "metadata": {
    "tags": []
   },
   "outputs": [],
   "source": [
    "input_ = keras.layers.Input(64)\n",
    "hidden1 = keras.layers.Dense(128, activation=\"relu\")(input_)\n",
    "hidden2 = keras.layers.Dense(128, activation=\"relu\")(hidden1)\n",
    "hidden3 = keras.layers.Dense(128, activation=\"relu\")(hidden2)\n",
    "hidden4 = keras.layers.Dense(128, activation=\"relu\")(hidden3)\n",
    "concat = keras.layers.Concatenate()([input_, hidden3])\n",
    "output = keras.layers.Dense(10, activation=\"softmax\")(concat)\n",
    "model_wide_deep = keras.Model(inputs=[input_], outputs=[output])"
   ]
  },
  {
   "cell_type": "code",
   "execution_count": 34,
   "metadata": {
    "tags": []
   },
   "outputs": [],
   "source": [
    "model_wide_deep.compile(loss=\"sparse_categorical_crossentropy\", optimizer=\"sgd\", metrics=[\"accuracy\"])"
   ]
  },
  {
   "cell_type": "code",
   "execution_count": 35,
   "metadata": {
    "tags": []
   },
   "outputs": [
    {
     "name": "stdout",
     "output_type": "stream",
     "text": [
      "Epoch 1/50\n",
      "45/45 [==============================] - 0s 2ms/step - loss: 1.8133 - accuracy: 0.6660 - val_loss: 0.2911 - val_accuracy: 0.9083\n",
      "Epoch 2/50\n",
      "45/45 [==============================] - 0s 1ms/step - loss: 0.2616 - accuracy: 0.9137 - val_loss: 0.2911 - val_accuracy: 0.9222\n",
      "Epoch 3/50\n",
      "45/45 [==============================] - 0s 984us/step - loss: 0.1797 - accuracy: 0.9415 - val_loss: 0.1535 - val_accuracy: 0.9389\n",
      "Epoch 4/50\n",
      "45/45 [==============================] - 0s 1ms/step - loss: 0.1298 - accuracy: 0.9596 - val_loss: 0.1445 - val_accuracy: 0.9556\n",
      "Epoch 5/50\n",
      "45/45 [==============================] - 0s 1ms/step - loss: 0.0991 - accuracy: 0.9694 - val_loss: 0.1346 - val_accuracy: 0.9611\n",
      "Epoch 6/50\n",
      "45/45 [==============================] - 0s 1ms/step - loss: 0.0775 - accuracy: 0.9784 - val_loss: 0.1286 - val_accuracy: 0.9639\n",
      "Epoch 7/50\n",
      "45/45 [==============================] - 0s 1ms/step - loss: 0.0638 - accuracy: 0.9833 - val_loss: 0.1239 - val_accuracy: 0.9667\n",
      "Epoch 8/50\n",
      "45/45 [==============================] - 0s 977us/step - loss: 0.0491 - accuracy: 0.9896 - val_loss: 0.1243 - val_accuracy: 0.9639\n",
      "Epoch 9/50\n",
      "45/45 [==============================] - 0s 1ms/step - loss: 0.0486 - accuracy: 0.9875 - val_loss: 0.1011 - val_accuracy: 0.9750\n",
      "Epoch 10/50\n",
      "45/45 [==============================] - 0s 1ms/step - loss: 0.0397 - accuracy: 0.9916 - val_loss: 0.1124 - val_accuracy: 0.9694\n",
      "Epoch 11/50\n",
      "45/45 [==============================] - 0s 1ms/step - loss: 0.0332 - accuracy: 0.9965 - val_loss: 0.1102 - val_accuracy: 0.9611\n",
      "Epoch 12/50\n",
      "45/45 [==============================] - 0s 998us/step - loss: 0.0314 - accuracy: 0.9965 - val_loss: 0.0959 - val_accuracy: 0.9750\n",
      "Epoch 13/50\n",
      "45/45 [==============================] - 0s 961us/step - loss: 0.0272 - accuracy: 0.9958 - val_loss: 0.1016 - val_accuracy: 0.9694\n",
      "Epoch 14/50\n",
      "45/45 [==============================] - 0s 988us/step - loss: 0.0247 - accuracy: 0.9958 - val_loss: 0.1081 - val_accuracy: 0.9639\n",
      "Epoch 15/50\n",
      "45/45 [==============================] - 0s 1ms/step - loss: 0.0220 - accuracy: 0.9972 - val_loss: 0.0998 - val_accuracy: 0.9694\n",
      "Epoch 16/50\n",
      "45/45 [==============================] - 0s 1ms/step - loss: 0.0202 - accuracy: 0.9986 - val_loss: 0.0999 - val_accuracy: 0.9667\n",
      "Epoch 17/50\n",
      "45/45 [==============================] - 0s 955us/step - loss: 0.0194 - accuracy: 0.9979 - val_loss: 0.1019 - val_accuracy: 0.9694\n",
      "Epoch 18/50\n",
      "45/45 [==============================] - 0s 1ms/step - loss: 0.0190 - accuracy: 0.9979 - val_loss: 0.0941 - val_accuracy: 0.9750\n",
      "Epoch 19/50\n",
      "45/45 [==============================] - 0s 1ms/step - loss: 0.0161 - accuracy: 0.9986 - val_loss: 0.0938 - val_accuracy: 0.9694\n",
      "Epoch 20/50\n",
      "45/45 [==============================] - 0s 1ms/step - loss: 0.0154 - accuracy: 0.9979 - val_loss: 0.0885 - val_accuracy: 0.9778\n",
      "Epoch 21/50\n",
      "45/45 [==============================] - 0s 1ms/step - loss: 0.0145 - accuracy: 0.9986 - val_loss: 0.0968 - val_accuracy: 0.9694\n",
      "Epoch 22/50\n",
      "45/45 [==============================] - 0s 971us/step - loss: 0.0134 - accuracy: 0.9993 - val_loss: 0.0915 - val_accuracy: 0.9750\n",
      "Epoch 23/50\n",
      "45/45 [==============================] - 0s 987us/step - loss: 0.0126 - accuracy: 0.9986 - val_loss: 0.0951 - val_accuracy: 0.9722\n",
      "Epoch 24/50\n",
      "45/45 [==============================] - 0s 1ms/step - loss: 0.0121 - accuracy: 0.9986 - val_loss: 0.0981 - val_accuracy: 0.9694\n",
      "Epoch 25/50\n",
      "45/45 [==============================] - 0s 1ms/step - loss: 0.0116 - accuracy: 0.9986 - val_loss: 0.0951 - val_accuracy: 0.9694\n",
      "Epoch 26/50\n",
      "45/45 [==============================] - 0s 1ms/step - loss: 0.0115 - accuracy: 0.9986 - val_loss: 0.0944 - val_accuracy: 0.9694\n",
      "Epoch 27/50\n",
      "45/45 [==============================] - 0s 1ms/step - loss: 0.0101 - accuracy: 1.0000 - val_loss: 0.1104 - val_accuracy: 0.9611\n",
      "Epoch 28/50\n",
      "45/45 [==============================] - 0s 1ms/step - loss: 0.0104 - accuracy: 0.9993 - val_loss: 0.0920 - val_accuracy: 0.9722\n",
      "Epoch 29/50\n",
      "45/45 [==============================] - 0s 983us/step - loss: 0.0096 - accuracy: 1.0000 - val_loss: 0.0909 - val_accuracy: 0.9722\n",
      "Epoch 30/50\n",
      "45/45 [==============================] - 0s 1ms/step - loss: 0.0087 - accuracy: 1.0000 - val_loss: 0.0929 - val_accuracy: 0.9750\n",
      "Epoch 31/50\n",
      "45/45 [==============================] - 0s 1ms/step - loss: 0.0093 - accuracy: 1.0000 - val_loss: 0.0910 - val_accuracy: 0.9778\n",
      "Epoch 32/50\n",
      "45/45 [==============================] - 0s 967us/step - loss: 0.0081 - accuracy: 1.0000 - val_loss: 0.0913 - val_accuracy: 0.9722\n",
      "Epoch 33/50\n",
      "45/45 [==============================] - 0s 1ms/step - loss: 0.0079 - accuracy: 1.0000 - val_loss: 0.0967 - val_accuracy: 0.9694\n",
      "Epoch 34/50\n",
      "45/45 [==============================] - 0s 992us/step - loss: 0.0078 - accuracy: 1.0000 - val_loss: 0.0864 - val_accuracy: 0.9778\n",
      "Epoch 35/50\n",
      "45/45 [==============================] - 0s 1ms/step - loss: 0.0075 - accuracy: 1.0000 - val_loss: 0.0866 - val_accuracy: 0.9750\n",
      "Epoch 36/50\n",
      "45/45 [==============================] - 0s 1ms/step - loss: 0.0069 - accuracy: 1.0000 - val_loss: 0.0849 - val_accuracy: 0.9778\n",
      "Epoch 37/50\n",
      "45/45 [==============================] - 0s 956us/step - loss: 0.0072 - accuracy: 1.0000 - val_loss: 0.0866 - val_accuracy: 0.9750\n",
      "Epoch 38/50\n",
      "45/45 [==============================] - 0s 1ms/step - loss: 0.0068 - accuracy: 1.0000 - val_loss: 0.0883 - val_accuracy: 0.9750\n",
      "Epoch 39/50\n",
      "45/45 [==============================] - 0s 990us/step - loss: 0.0066 - accuracy: 1.0000 - val_loss: 0.0882 - val_accuracy: 0.9750\n",
      "Epoch 40/50\n",
      "45/45 [==============================] - 0s 995us/step - loss: 0.0066 - accuracy: 1.0000 - val_loss: 0.0879 - val_accuracy: 0.9750\n",
      "Epoch 41/50\n",
      "45/45 [==============================] - 0s 978us/step - loss: 0.0062 - accuracy: 1.0000 - val_loss: 0.0891 - val_accuracy: 0.9750\n",
      "Epoch 42/50\n",
      "45/45 [==============================] - 0s 1ms/step - loss: 0.0063 - accuracy: 1.0000 - val_loss: 0.0879 - val_accuracy: 0.9778\n",
      "Epoch 43/50\n",
      "45/45 [==============================] - 0s 1ms/step - loss: 0.0060 - accuracy: 1.0000 - val_loss: 0.0862 - val_accuracy: 0.9778\n",
      "Epoch 44/50\n",
      "45/45 [==============================] - 0s 1ms/step - loss: 0.0058 - accuracy: 1.0000 - val_loss: 0.0862 - val_accuracy: 0.9778\n",
      "Epoch 45/50\n",
      "45/45 [==============================] - 0s 1ms/step - loss: 0.0054 - accuracy: 1.0000 - val_loss: 0.0896 - val_accuracy: 0.9722\n",
      "Epoch 46/50\n",
      "45/45 [==============================] - 0s 968us/step - loss: 0.0054 - accuracy: 1.0000 - val_loss: 0.0845 - val_accuracy: 0.9778\n",
      "Epoch 47/50\n",
      "45/45 [==============================] - 0s 985us/step - loss: 0.0053 - accuracy: 1.0000 - val_loss: 0.0866 - val_accuracy: 0.9778\n",
      "Epoch 48/50\n",
      "45/45 [==============================] - 0s 1ms/step - loss: 0.0053 - accuracy: 1.0000 - val_loss: 0.0885 - val_accuracy: 0.9750\n",
      "Epoch 49/50\n",
      "45/45 [==============================] - 0s 1ms/step - loss: 0.0052 - accuracy: 1.0000 - val_loss: 0.0860 - val_accuracy: 0.9750\n",
      "Epoch 50/50\n",
      "45/45 [==============================] - 0s 993us/step - loss: 0.0050 - accuracy: 1.0000 - val_loss: 0.0838 - val_accuracy: 0.9778\n"
     ]
    }
   ],
   "source": [
    "history = model_wide_deep.fit(X_train, y_train, epochs=50, validation_data=(X_test, y_test))"
   ]
  },
  {
   "cell_type": "code",
   "execution_count": 36,
   "metadata": {
    "tags": []
   },
   "outputs": [
    {
     "name": "stdout",
     "output_type": "stream",
     "text": [
      "12/12 [==============================] - 0s 563us/step - loss: 0.0838 - accuracy: 0.9778\n",
      "Loss 0.08377\n",
      "Accuracy 0.9778\n"
     ]
    }
   ],
   "source": [
    "loss, accuracy = model_wide_deep.evaluate(X_test, y_test)\n",
    "print(f\"Loss {loss:.5f}\\nAccuracy {accuracy:.4f}\")"
   ]
  },
  {
   "cell_type": "code",
   "execution_count": 37,
   "metadata": {
    "tags": []
   },
   "outputs": [
    {
     "name": "stdout",
     "output_type": "stream",
     "text": [
      "Model: \"model_1\"\n",
      "__________________________________________________________________________________________________\n",
      " Layer (type)                   Output Shape         Param #     Connected to                     \n",
      "==================================================================================================\n",
      " input_4 (InputLayer)           [(None, 64)]         0           []                               \n",
      "                                                                                                  \n",
      " dense_11 (Dense)               (None, 128)          8320        ['input_4[0][0]']                \n",
      "                                                                                                  \n",
      " dense_12 (Dense)               (None, 128)          16512       ['dense_11[0][0]']               \n",
      "                                                                                                  \n",
      " dense_13 (Dense)               (None, 128)          16512       ['dense_12[0][0]']               \n",
      "                                                                                                  \n",
      " concatenate (Concatenate)      (None, 192)          0           ['input_4[0][0]',                \n",
      "                                                                  'dense_13[0][0]']               \n",
      "                                                                                                  \n",
      " dense_15 (Dense)               (None, 10)           1930        ['concatenate[0][0]']            \n",
      "                                                                                                  \n",
      "==================================================================================================\n",
      "Total params: 43,274\n",
      "Trainable params: 43,274\n",
      "Non-trainable params: 0\n",
      "__________________________________________________________________________________________________\n"
     ]
    }
   ],
   "source": [
    "model_wide_deep.summary()"
   ]
  },
  {
   "cell_type": "code",
   "execution_count": 38,
   "metadata": {},
   "outputs": [
    {
     "name": "stdout",
     "output_type": "stream",
     "text": [
      "12/12 [==============================] - 0s 476us/step\n"
     ]
    },
    {
     "data": {
      "image/png": "[encoded data removed]",
      "text/plain": [
       "<Figure size 700x350 with 2 Axes>"
      ]
     },
     "metadata": {},
     "output_type": "display_data"
    }
   ],
   "source": [
    "from sklearn.metrics import ConfusionMatrixDisplay\n",
    "from sklearn.metrics import confusion_matrix\n",
    "\n",
    "# display the confusion matrix\n",
    "y_pred = model_wide_deep.predict(X_test).argmax(axis=1)\n",
    "cm = confusion_matrix(y_test, y_pred)\n",
    "disp = ConfusionMatrixDisplay(confusion_matrix=cm)\n",
    "disp.plot(cmap=plt.cm.Blues)\n",
    "plt.show()"
   ]
  },
  {
   "cell_type": "code",
   "execution_count": 39,
   "metadata": {},
   "outputs": [
    {
     "name": "stdout",
     "output_type": "stream",
     "text": [
      "              precision    recall  f1-score   support\n",
      "\n",
      "           0     1.0000    0.9767    0.9882        43\n",
      "           1     1.0000    1.0000    1.0000        35\n",
      "           2     1.0000    0.9722    0.9859        36\n",
      "           3     1.0000    0.9756    0.9877        41\n",
      "           4     0.9500    1.0000    0.9744        38\n",
      "           5     0.9375    1.0000    0.9677        30\n",
      "           6     1.0000    1.0000    1.0000        37\n",
      "           7     0.9722    0.9459    0.9589        37\n",
      "           8     0.9643    0.9310    0.9474        29\n",
      "           9     0.9429    0.9706    0.9565        34\n",
      "\n",
      "    accuracy                         0.9778       360\n",
      "   macro avg     0.9767    0.9772    0.9767       360\n",
      "weighted avg     0.9784    0.9778    0.9778       360\n",
      "\n"
     ]
    }
   ],
   "source": [
    "from sklearn.metrics import classification_report\n",
    "\n",
    "print(classification_report(y_test, y_pred, digits=4))"
   ]
  }
 ],
 "metadata": {
  "colab": {
   "authorship_tag": "ABX9TyOig4eSm144+FaPk1GKk187",
   "collapsed_sections": [],
   "include_colab_link": true,
   "name": "mnist_compete_3_models.ipynb",
   "provenance": []
  },
  "kernelspec": {
   "display_name": "Python 3 (ipykernel)",
   "language": "python",
   "name": "python3"
  },
  "language_info": {
   "codemirror_mode": {
    "name": "ipython",
    "version": 3
   },
   "file_extension": ".py",
   "mimetype": "text/x-python",
   "name": "python",
   "nbconvert_exporter": "python",
   "pygments_lexer": "ipython3",
   "version": "3.10.10"
  },
  "vscode": {
   "interpreter": {
    "hash": "b056086e24cb5602cbcb82122035cd3d6ee2ccbf5df29c16e348c108b0f83be3"
   }
  }
 },
 "nbformat": 4,
 "nbformat_minor": 4
}
