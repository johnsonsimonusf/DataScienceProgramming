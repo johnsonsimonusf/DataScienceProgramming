{
 "cells": [
  {
   "cell_type": "markdown",
   "metadata": {
    "id": "w0tyra0NWJvI"
   },
   "source": [
    "# MNIST machine learning exercise\n",
    "\n",
    "In this exercise we will demonstrate the use of Keras and Keras Tune to identify a feedforward neural network that best predicts the a handwritten digit. \n",
    "\n",
    "We use the MNIST data set;\n",
    "\n",
    "![mnist data](https://upload.wikimedia.org/wikipedia/commons/2/27/MnistExamples.png)"
   ]
  },
  {
   "cell_type": "markdown",
   "metadata": {
    "tags": []
   },
   "source": [
    "# 1.0 Load and explore data (shouldn't need any transformations)"
   ]
  },
  {
   "cell_type": "code",
   "execution_count": 1,
   "metadata": {},
   "outputs": [],
   "source": [
    "import os\n",
    "import tensorflow as tf\n",
    "os.environ['TF_CPP_MIN_LOG_LEVEL'] = '2'"
   ]
  },
  {
   "cell_type": "code",
   "execution_count": 2,
   "metadata": {
    "id": "48VnFR9cXFP0"
   },
   "outputs": [],
   "source": [
    "from __future__ import print_function\n",
    "import numpy as np\n",
    "from sklearn.model_selection import train_test_split\n",
    "import matplotlib.pyplot as plt\n",
    "\n",
    "from sklearn import datasets\n",
    "\n",
    "np.random.seed(1)"
   ]
  },
  {
   "cell_type": "markdown",
   "metadata": {},
   "source": [
    "Load the MNIST digits dataset. It's originally from UCI machine learning library, but included in SKLearn."
   ]
  },
  {
   "cell_type": "code",
   "execution_count": 3,
   "metadata": {
    "colab": {
     "base_uri": "https://localhost:8080/",
     "height": 34
    },
    "id": "M8CjaVlYW2Jx",
    "outputId": "e90a4dd3-3781-477f-b02f-97ac3e75be91"
   },
   "outputs": [],
   "source": [
    "mnist = datasets.load_digits() # sklearn includes this data set .. https://archive.ics.uci.edu/ml/datasets/Optical+Recognition+of+Handwritten+Digits"
   ]
  },
  {
   "cell_type": "code",
   "execution_count": 4,
   "metadata": {
    "tags": []
   },
   "outputs": [
    {
     "data": {
      "text/plain": [
       "sklearn.utils._bunch.Bunch"
      ]
     },
     "execution_count": 4,
     "metadata": {},
     "output_type": "execute_result"
    }
   ],
   "source": [
    "type(mnist)"
   ]
  },
  {
   "cell_type": "markdown",
   "metadata": {},
   "source": [
    "Notice that the dataset is stored in a Bunch type (see sklearn https://scikit-learn.org/stable/modules/generated/sklearn.utils.Bunch.html)\n",
    "\n",
    "We can view this dataset as similar to a dictionary; we can look at all the keys by doing the following:"
   ]
  },
  {
   "cell_type": "code",
   "execution_count": 5,
   "metadata": {
    "colab": {
     "base_uri": "https://localhost:8080/",
     "height": 34
    },
    "id": "5pPXrazAfUoL",
    "outputId": "593b0df0-7b98-4c9b-e01d-36930d653723"
   },
   "outputs": [
    {
     "data": {
      "text/plain": [
       "dict_keys(['data', 'target', 'frame', 'feature_names', 'target_names', 'images', 'DESCR'])"
      ]
     },
     "execution_count": 5,
     "metadata": {},
     "output_type": "execute_result"
    }
   ],
   "source": [
    "mnist.keys()"
   ]
  },
  {
   "cell_type": "markdown",
   "metadata": {},
   "source": [
    "Note thjat there are 1797 images."
   ]
  },
  {
   "cell_type": "markdown",
   "metadata": {},
   "source": [
    "Images are 8x8 grid of values epresenting the gray level for each pixel (16 levels of grey -- from 0 (black) to 15 (white)). "
   ]
  },
  {
   "cell_type": "code",
   "execution_count": 6,
   "metadata": {
    "colab": {
     "base_uri": "https://localhost:8080/",
     "height": 153
    },
    "id": "B0ZaSvLlfva0",
    "outputId": "7735e16a-6f2e-41cd-e4e3-55c1dbd5a89d"
   },
   "outputs": [
    {
     "data": {
      "text/plain": [
       "array([[ 0.,  0.,  5., 13.,  9.,  1.,  0.,  0.],\n",
       "       [ 0.,  0., 13., 15., 10., 15.,  5.,  0.],\n",
       "       [ 0.,  3., 15.,  2.,  0., 11.,  8.,  0.],\n",
       "       [ 0.,  4., 12.,  0.,  0.,  8.,  8.,  0.],\n",
       "       [ 0.,  5.,  8.,  0.,  0.,  9.,  8.,  0.],\n",
       "       [ 0.,  4., 11.,  0.,  1., 12.,  7.,  0.],\n",
       "       [ 0.,  2., 14.,  5., 10., 12.,  0.,  0.],\n",
       "       [ 0.,  0.,  6., 13., 10.,  0.,  0.,  0.]])"
      ]
     },
     "execution_count": 6,
     "metadata": {},
     "output_type": "execute_result"
    }
   ],
   "source": [
    "mnist.images[0]"
   ]
  },
  {
   "cell_type": "markdown",
   "metadata": {},
   "source": [
    "To analyze this, we simple turn this into a one dimensional array (so we will x1, x2, ... x63, x64). This has already been done for us, and is stored in the data key."
   ]
  },
  {
   "cell_type": "code",
   "execution_count": 7,
   "metadata": {
    "colab": {
     "base_uri": "https://localhost:8080/",
     "height": 102
    },
    "id": "sjDP19CWfT6S",
    "outputId": "f3643de4-6fc9-4810-d5d5-21fb633970fa"
   },
   "outputs": [
    {
     "data": {
      "text/plain": [
       "array([ 0.,  0.,  5., 13.,  9.,  1.,  0.,  0.,  0.,  0., 13., 15., 10.,\n",
       "       15.,  5.,  0.,  0.,  3., 15.,  2.,  0., 11.,  8.,  0.,  0.,  4.,\n",
       "       12.,  0.,  0.,  8.,  8.,  0.,  0.,  5.,  8.,  0.,  0.,  9.,  8.,\n",
       "        0.,  0.,  4., 11.,  0.,  1., 12.,  7.,  0.,  0.,  2., 14.,  5.,\n",
       "       10., 12.,  0.,  0.,  0.,  0.,  6., 13., 10.,  0.,  0.,  0.])"
      ]
     },
     "execution_count": 7,
     "metadata": {},
     "output_type": "execute_result"
    }
   ],
   "source": [
    "mnist.data[0]"
   ]
  },
  {
   "cell_type": "markdown",
   "metadata": {},
   "source": [
    "If we want the number of images, we can use the len function."
   ]
  },
  {
   "cell_type": "code",
   "execution_count": 8,
   "metadata": {
    "colab": {
     "base_uri": "https://localhost:8080/",
     "height": 34
    },
    "id": "rTQ7qNp4ffaW",
    "outputId": "3d267533-ac01-4747-abee-369aae5d3d79"
   },
   "outputs": [
    {
     "name": "stdout",
     "output_type": "stream",
     "text": [
      "1797\n"
     ]
    }
   ],
   "source": [
    "print(len(mnist.data))"
   ]
  },
  {
   "cell_type": "markdown",
   "metadata": {},
   "source": [
    "And, for each image we have a target value"
   ]
  },
  {
   "cell_type": "code",
   "execution_count": 9,
   "metadata": {
    "tags": []
   },
   "outputs": [
    {
     "name": "stdout",
     "output_type": "stream",
     "text": [
      "1797\n"
     ]
    }
   ],
   "source": [
    "print(len(mnist.target))"
   ]
  },
  {
   "cell_type": "markdown",
   "metadata": {},
   "source": [
    "To identify any issues with data imbalance, let's look at the number of observations for each digit "
   ]
  },
  {
   "cell_type": "code",
   "execution_count": 10,
   "metadata": {
    "tags": []
   },
   "outputs": [
    {
     "data": {
      "text/plain": [
       "Counter({0: 178,\n",
       "         1: 182,\n",
       "         2: 177,\n",
       "         3: 183,\n",
       "         4: 181,\n",
       "         5: 182,\n",
       "         6: 181,\n",
       "         7: 179,\n",
       "         8: 174,\n",
       "         9: 180})"
      ]
     },
     "execution_count": 10,
     "metadata": {},
     "output_type": "execute_result"
    }
   ],
   "source": [
    "import collections\n",
    "\n",
    "counts = collections.Counter(mnist.target)\n",
    "\n",
    "counts"
   ]
  },
  {
   "cell_type": "markdown",
   "metadata": {},
   "source": [
    "We can also look at this as a barplot..."
   ]
  },
  {
   "cell_type": "code",
   "execution_count": 11,
   "metadata": {
    "tags": []
   },
   "outputs": [
    {
     "data": {
      "image/png": "[encoded data removed]",
      "text/plain": [
       "<Figure size 700x350 with 1 Axes>"
      ]
     },
     "metadata": {},
     "output_type": "display_data"
    }
   ],
   "source": [
    "from matplotlib import pyplot as plt\n",
    "\n",
    "# Set the figure size\n",
    "plt.rcParams[\"figure.figsize\"] = [7.00, 3.50]\n",
    "plt.rcParams[\"figure.autolayout\"] = True\n",
    "\n",
    "# Plot bar chart with data points\n",
    "plt.bar(counts.keys(), counts.values())\n",
    "\n",
    "# Display the plot\n",
    "plt.show()"
   ]
  },
  {
   "cell_type": "markdown",
   "metadata": {},
   "source": [
    "We can use matplotlib to display a sample of these images from the data."
   ]
  },
  {
   "cell_type": "code",
   "execution_count": 12,
   "metadata": {
    "colab": {
     "base_uri": "https://localhost:8080/",
     "height": 1000
    },
    "id": "qW162_28WC60",
    "outputId": "c7bf771d-ebd1-4a42-e9e4-719d243b814a"
   },
   "outputs": [
    {
     "data": {
      "image/png": "[encoded data removed]",
      "text/plain": [
       "<Figure size 700x350 with 1 Axes>"
      ]
     },
     "metadata": {},
     "output_type": "display_data"
    },
    {
     "data": {
      "image/png": "[encoded data removed]",
      "text/plain": [
       "<Figure size 700x350 with 1 Axes>"
      ]
     },
     "metadata": {},
     "output_type": "display_data"
    },
    {
     "data": {
      "image/png": "[encoded data removed]",
      "text/plain": [
       "<Figure size 700x350 with 1 Axes>"
      ]
     },
     "metadata": {},
     "output_type": "display_data"
    },
    {
     "data": {
      "image/png": "[encoded data removed]",
      "text/plain": [
       "<Figure size 700x350 with 1 Axes>"
      ]
     },
     "metadata": {},
     "output_type": "display_data"
    }
   ],
   "source": [
    "for i in np.random.choice(range(0,len(mnist.images)), 4): # choose 4 at random\n",
    "    plt.imshow(mnist.images[i], cmap='gray')\n",
    "    plt.show()"
   ]
  },
  {
   "cell_type": "markdown",
   "metadata": {},
   "source": [
    "# 2.0 Model data using Keras sequential neural networks"
   ]
  },
  {
   "cell_type": "markdown",
   "metadata": {},
   "source": [
    "Split data into training and test sets\n"
   ]
  },
  {
   "cell_type": "code",
   "execution_count": 13,
   "metadata": {},
   "outputs": [],
   "source": [
    "X_train, X_test, y_train, y_test = train_test_split(mnist.data, mnist.target, test_size=0.2, random_state=1)"
   ]
  },
  {
   "cell_type": "markdown",
   "metadata": {},
   "source": [
    "Create a unique log directory name (to store logs for later analysis using tensorboard)"
   ]
  },
  {
   "cell_type": "code",
   "execution_count": 14,
   "metadata": {
    "tags": []
   },
   "outputs": [],
   "source": [
    "import datetime\n",
    "datestring = datetime.datetime.now().strftime(\"%Y-%m-%d-%H-%M-%S\")"
   ]
  },
  {
   "cell_type": "markdown",
   "metadata": {},
   "source": [
    "## 2.1 Keras Hyperparameter tuning"
   ]
  },
  {
   "cell_type": "markdown",
   "metadata": {},
   "source": [
    "Import the libraries we will use"
   ]
  },
  {
   "cell_type": "code",
   "execution_count": 15,
   "metadata": {},
   "outputs": [],
   "source": [
    "import keras_tuner\n",
    "# If you don't have keras_tuner installed, run the following in your terminal (mac), or anaconda prompt (windows)\n",
    "# conda install -c conda-forge keras-tuner\n",
    "\n",
    "\n",
    "\n",
    "from tensorflow import keras\n",
    "from tensorflow.keras import layers"
   ]
  },
  {
   "cell_type": "markdown",
   "metadata": {},
   "source": [
    "Create a function that builds the model. This is used by random search to generate a model for each set of paramete values that keras tuner's RandomSearch function generates. \n",
    "\n",
    "Notice that there are a number of references to 'hp' in this function. Hp is a keras hyper parameter object that RandomSearch will send to our build_model function. The hp.Boolean, hb.Int, hp.Float methods will generate a random value based on the parameters given to each method. \n",
    "\n",
    "These hyperparameter randomization methods are well documented [here](https://keras.io/api/keras_tuner/hyperparameters/).\n",
    "* hp.Boolean\n",
    "* hp.Int\n",
    "* hp.Float\n",
    "* hp.Choice\n",
    "\n",
    "The build_model function will use the random values to create a Keras sequential neural network and return it back to the calling function (RandomSearch that is calling this function)\n",
    "* [Input layer](https://keras.io/api/layers/core_layers/input/)\n",
    "* [Dropout layer](https://keras.io/api/layers/regularization_layers/dropout/)\n",
    "* [Normalization layer](http://keras.io/api/layers/preprocessing_layers/numerical/normalization/)\n",
    "* [Dense layer](https://keras.io/api/layers/core_layers/dense/)\n"
   ]
  },
  {
   "cell_type": "code",
   "execution_count": 16,
   "metadata": {
    "tags": []
   },
   "outputs": [],
   "source": [
    "import numpy as np\n",
    "import tensorflow as tf\n",
    "from keras import backend as K\n",
    "\n",
    "\n",
    "def recall(y_true, y_pred):\n",
    "    y_true = K.ones_like(y_true)\n",
    "    true_positives = K.sum(K.round(K.clip(y_true * y_pred, 0, 1)))\n",
    "    possible_positives = K.sum(K.round(K.clip(y_true, 0, 1)))\n",
    "    recall_keras = true_positives / (possible_positives + K.epsilon())\n",
    "    return recall_keras\n",
    "\n",
    "\n",
    "def precision(y_true, y_pred):\n",
    "    y_true = K.ones_like(y_true)\n",
    "    true_positives = K.sum(K.round(K.clip(y_true * y_pred, 0, 1)))\n",
    "    predicted_positives = K.sum(K.round(K.clip(y_pred, 0, 1)))\n",
    "    precision_keras = true_positives / (predicted_positives + K.epsilon())\n",
    "    return precision_keras\n",
    "\n",
    "\n",
    "def specificity(y_true, y_pred):\n",
    "    y_true = K.ones_like(y_true)\n",
    "    tn = K.sum(K.round(K.clip((1 - y_true) * (1 - y_pred), 0, 1)))\n",
    "    fp = K.sum(K.round(K.clip((1 - y_true) * y_pred, 0, 1)))\n",
    "    return tn / (tn + fp + K.epsilon())\n",
    "\n",
    "\n",
    "def negative_predictive_value(y_true, y_pred):\n",
    "    tn = K.sum(K.round(K.clip((1 - y_true) * (1 - y_pred), 0, 1)))\n",
    "    fn = K.sum(K.round(K.clip(y_true * (1 - y_pred), 0, 1)))\n",
    "    return tn / (tn + fn + K.epsilon())\n",
    "\n",
    "\n",
    "def f1(y_true, y_pred):\n",
    "    p = precision(y_true, y_pred)\n",
    "    r = recall(y_true, y_pred)\n",
    "    return 2 * ((p * r) / (p + r + K.epsilon()))\n",
    "\n",
    "\n",
    "def fbeta(y_true, y_pred, beta=2):\n",
    "    y_pred = K.clip(y_pred, 0, 1)\n",
    "\n",
    "    tp = K.sum(K.round(K.clip(y_true * y_pred, 0, 1)), axis=1)\n",
    "    fp = K.sum(K.round(K.clip(y_pred - y_true, 0, 1)), axis=1)\n",
    "    fn = K.sum(K.round(K.clip(y_true - y_pred, 0, 1)), axis=1)\n",
    "\n",
    "    p = tp / (tp + fp + K.epsilon())\n",
    "    r = tp / (tp + fn + K.epsilon())\n",
    "\n",
    "    num = (1 + beta ** 2) * (p * r)\n",
    "    den = (beta ** 2 * p + r + K.epsilon())\n",
    "    return K.mean(num / den)"
   ]
  },
  {
   "cell_type": "code",
   "execution_count": 17,
   "metadata": {},
   "outputs": [
    {
     "data": {
      "text/plain": [
       "<keras.engine.sequential.Sequential at 0x28bcf39a0>"
      ]
     },
     "execution_count": 17,
     "metadata": {},
     "output_type": "execute_result"
    }
   ],
   "source": [
    "def build_model(hp):\n",
    "    model = keras.Sequential()\n",
    "\n",
    "    # create input layer\n",
    "    model.add(layers.Input(64))\n",
    "\n",
    "    dropout = hp.Boolean(\"dropout\") # generate a boolean variable called dropout whos value is randomly set to either True of False\n",
    "    normalize = hp.Boolean(\"normalize\") # generate a boolean variable called normalize whos value is randomly set to either True of False\n",
    "\n",
    "    # create hidden layers\n",
    "    for i in range(hp.Int(name='hidden_layer_count', min_value=1, max_value=5, step=1)):\n",
    "        model.add(layers.Dense(units=hp.Int(\"units\", min_value=32, max_value=1024, step=32),activation=hp.Choice(\"activation\", [\"selu\", \"elu\", \"relu\", \"tanh\"]))) \n",
    "        if dropout:\n",
    "            model.add(layers.Dropout(rate=hp.Float(\"dropout rate\", min_value=0.01, max_value=0.1, step=.005)))\n",
    "        if normalize:\n",
    "            model.add(layers.Normalization())\n",
    "\n",
    "    model.add(layers.Dense(units=10, activation=\"softmax\"))\n",
    "\n",
    "    # Define the optimizer learning rate as a hyperparameter.\n",
    "    lr = hp.Float(\"lr\", min_value=1e-4, max_value=1e-2, sampling=\"log\")   \n",
    "    choice = hp.Choice(name='optimizer', values=['adam', 'sgd'])\n",
    "    if 'adam' == choice:\n",
    "        optimizer = keras.optimizers.legacy.Adam(learning_rate=lr)  # for M1/M2 use optimizers.legacy.Adam, otherwise use optimizers.Adam\n",
    "    else:\n",
    "        optimizer = keras.optimizers.legacy.SGD(learning_rate=lr)  # for M1/M2 use optimizers.legacy.SGD, otherwise use optimizers.SGD\n",
    "\n",
    "    model.compile(\n",
    "        optimizer=optimizer,\n",
    "        loss=\"sparse_categorical_crossentropy\",\n",
    "        # see here https://www.tensorflow.org/api_docs/python/tf/keras/losses\n",
    "        \n",
    "        # Though you can add a metric, this doesn't get used to train the model, it's only informative (see previous notebook for more detail).\n",
    "        metrics=['accuracy', f1, recall, precision],  # you need to set this in order for keras_tuner to have one of these objectives!\n",
    "        # for metrics, see https://www.tensorflow.org/api_docs/python/tf/keras/metrics/\n",
    "    )\n",
    "    return model\n",
    "\n",
    "build_model(keras_tuner.HyperParameters())"
   ]
  },
  {
   "cell_type": "markdown",
   "metadata": {},
   "source": [
    "We now use our model generating function to conduct a random search to identify the best fitting model (from a random selection of the parameter ranges identified in the build_model function we created above).\n",
    "\n",
    "NOTE: That the number of trials represents the number of unique combinations of hyperparameters that will be tested. the executions per trial are how many trials of of a model with this chosen set of parameters will be tested. So, if we have 10 trials and 3 executions, we will train 30 times... 3 times per each 10 sets of parameters."
   ]
  },
  {
   "cell_type": "code",
   "execution_count": 18,
   "metadata": {
    "tags": []
   },
   "outputs": [],
   "source": [
    "tuner = keras_tuner.RandomSearch(\n",
    "    hypermodel=build_model,\n",
    "    objective=\"val_accuracy\",\n",
    "# \n",
    "# You can use metrics other than accuracy, but you need to have this defined in the build model first\n",
    "# For instance, if you have f1 defined in the build model, to have keras_tuner 'tune' on f1, you set objective to be 'val_f1'. \n",
    "# For precision you would have to have precision defined in the build model, and to tune on precision, you set the object to \n",
    "# be 'val_precision', etc.\n",
    "# \n",
    "# Also, for custom objectives, you need to set a 'direction' for the tune... so if you want to maximize f1, you set direction to be 'max'.\n",
    "# \n",
    "#    objective = keras_tuner.Objective(\"val_f1\", direction=\"max\"), \n",
    "  \n",
    "    max_trials=150, # max_trials represents the number of hyperparameter combinations that will be tested by the tuner (like n_iter in sklearn random search)\n",
    "    executions_per_trial=2, # max number of models to fit per set of set of hyperparameters combinations\n",
    "\n",
    "    # the next three parameters about where the results from the training are stored\n",
    "    directory=f'logs/{datestring:s}',\n",
    "    project_name=\"keras_tuned\",\n",
    "    overwrite=True\n",
    ")"
   ]
  },
  {
   "cell_type": "markdown",
   "metadata": {},
   "source": [
    "Get a summary of the overal 'search space' (all the possible parmater values)."
   ]
  },
  {
   "cell_type": "code",
   "execution_count": 19,
   "metadata": {
    "tags": []
   },
   "outputs": [
    {
     "name": "stdout",
     "output_type": "stream",
     "text": [
      "Search space summary\n",
      "Default search space size: 7\n",
      "dropout (Boolean)\n",
      "{'default': False, 'conditions': []}\n",
      "normalize (Boolean)\n",
      "{'default': False, 'conditions': []}\n",
      "hidden_layer_count (Int)\n",
      "{'default': None, 'conditions': [], 'min_value': 1, 'max_value': 5, 'step': 1, 'sampling': 'linear'}\n",
      "units (Int)\n",
      "{'default': None, 'conditions': [], 'min_value': 32, 'max_value': 1024, 'step': 32, 'sampling': 'linear'}\n",
      "activation (Choice)\n",
      "{'default': 'selu', 'conditions': [], 'values': ['selu', 'elu', 'relu', 'tanh'], 'ordered': False}\n",
      "lr (Float)\n",
      "{'default': 0.0001, 'conditions': [], 'min_value': 0.0001, 'max_value': 0.01, 'step': None, 'sampling': 'log'}\n",
      "optimizer (Choice)\n",
      "{'default': 'adam', 'conditions': [], 'values': ['adam', 'sgd'], 'ordered': False}\n"
     ]
    }
   ],
   "source": [
    "tuner.search_space_summary()"
   ]
  },
  {
   "cell_type": "markdown",
   "metadata": {},
   "source": [
    "Train the model..."
   ]
  },
  {
   "cell_type": "markdown",
   "metadata": {},
   "source": [
    "NOTE:\n",
    "\n",
    "\n",
    "LambdaCallback is constructed with the following anonymous functions that will be called at the appropriate time.\n",
    "\n",
    "* on_epoch_begin: called at the beginning of every epoch.\n",
    "* on_epoch_end: called at the end of every epoch.\n",
    "* on_batch_begin: called at the beginning of every batch.\n",
    "* on_batch_end: called at the end of every batch.\n",
    "* on_train_begin: called at the beginning of model training.\n",
    "* on_train_end: called at the end of model training."
   ]
  },
  {
   "cell_type": "code",
   "execution_count": 20,
   "metadata": {
    "tags": []
   },
   "outputs": [
    {
     "name": "stdout",
     "output_type": "stream",
     "text": [
      "Trial 150 Complete [00h 00m 05s]\n",
      "val_accuracy: 0.9444444477558136\n",
      "\n",
      "Best val_accuracy So Far: 0.9902777671813965\n",
      "Total elapsed time: 00h 07m 20s\n",
      "INFO:tensorflow:Oracle triggered exit\n",
      "CPU times: user 11min 30s, sys: 2min 57s, total: 14min 27s\n",
      "Wall time: 7min 19s\n"
     ]
    }
   ],
   "source": [
    "%%time\n",
    "import time\n",
    "from tensorflow.keras.callbacks import LambdaCallback\n",
    "    \n",
    "epoch_callback = LambdaCallback(\n",
    "    on_epoch_begin=lambda epoch,logs: print(f'Starting Epoch {epoch+1}!')\n",
    ")\n",
    "\n",
    "batch_loss_callback = LambdaCallback(\n",
    "    on_batch_end=lambda batch,logs: print(f'\\n After batch {batch}, the loss is {logs}.')\n",
    ")\n",
    "    \n",
    "train_finish_callback = LambdaCallback(\n",
    "    on_train_end=lambda logs: print('Training finished!')\n",
    ")\n",
    "\n",
    "tuner.search(\n",
    "    X_train, \n",
    "    y_train, \n",
    "    epochs=10, \n",
    "    batch_size=200, \n",
    "    validation_data=(X_test, y_test), \n",
    "    callbacks=[epoch_callback, batch_loss_callback, train_finish_callback]\n",
    ")"
   ]
  },
  {
   "cell_type": "code",
   "execution_count": 21,
   "metadata": {},
   "outputs": [
    {
     "name": "stdout",
     "output_type": "stream",
     "text": [
      "Results summary\n",
      "Results in logs/2023-04-11-15-15-31/keras_tuned\n",
      "Showing 10 best trials\n",
      "Objective(name=\"val_accuracy\", direction=\"max\")\n",
      "\n",
      "Trial 135 summary\n",
      "Hyperparameters:\n",
      "dropout: False\n",
      "normalize: True\n",
      "hidden_layer_count: 3\n",
      "units: 416\n",
      "activation: relu\n",
      "lr: 0.00206871879825104\n",
      "optimizer: adam\n",
      "dropout rate: 0.08499999999999999\n",
      "Score: 0.9902777671813965\n",
      "\n",
      "Trial 035 summary\n",
      "Hyperparameters:\n",
      "dropout: True\n",
      "normalize: True\n",
      "hidden_layer_count: 5\n",
      "units: 640\n",
      "activation: tanh\n",
      "lr: 0.00040883160006855156\n",
      "optimizer: adam\n",
      "dropout rate: 0.060000000000000005\n",
      "Score: 0.9888888597488403\n",
      "\n",
      "Trial 109 summary\n",
      "Hyperparameters:\n",
      "dropout: False\n",
      "normalize: False\n",
      "hidden_layer_count: 4\n",
      "units: 544\n",
      "activation: tanh\n",
      "lr: 0.0017111689990377582\n",
      "optimizer: adam\n",
      "dropout rate: 0.075\n",
      "Score: 0.9888888597488403\n",
      "\n",
      "Trial 140 summary\n",
      "Hyperparameters:\n",
      "dropout: False\n",
      "normalize: False\n",
      "hidden_layer_count: 2\n",
      "units: 704\n",
      "activation: relu\n",
      "lr: 0.0007588323663982013\n",
      "optimizer: adam\n",
      "dropout rate: 0.09\n",
      "Score: 0.987500011920929\n",
      "\n",
      "Trial 048 summary\n",
      "Hyperparameters:\n",
      "dropout: False\n",
      "normalize: False\n",
      "hidden_layer_count: 4\n",
      "units: 864\n",
      "activation: relu\n",
      "lr: 0.0001300047634781367\n",
      "optimizer: adam\n",
      "dropout rate: 0.025\n",
      "Score: 0.9874999821186066\n",
      "\n",
      "Trial 147 summary\n",
      "Hyperparameters:\n",
      "dropout: False\n",
      "normalize: False\n",
      "hidden_layer_count: 5\n",
      "units: 896\n",
      "activation: relu\n",
      "lr: 0.0009857340797748968\n",
      "optimizer: adam\n",
      "dropout rate: 0.045000000000000005\n",
      "Score: 0.9874999821186066\n",
      "\n",
      "Trial 002 summary\n",
      "Hyperparameters:\n",
      "dropout: True\n",
      "normalize: False\n",
      "hidden_layer_count: 4\n",
      "units: 288\n",
      "activation: selu\n",
      "lr: 0.0022688188560336118\n",
      "optimizer: adam\n",
      "dropout rate: 0.060000000000000005\n",
      "Score: 0.9861111044883728\n",
      "\n",
      "Trial 083 summary\n",
      "Hyperparameters:\n",
      "dropout: False\n",
      "normalize: False\n",
      "hidden_layer_count: 3\n",
      "units: 992\n",
      "activation: relu\n",
      "lr: 0.00102518813141266\n",
      "optimizer: adam\n",
      "dropout rate: 0.05\n",
      "Score: 0.9861111044883728\n",
      "\n",
      "Trial 061 summary\n",
      "Hyperparameters:\n",
      "dropout: False\n",
      "normalize: False\n",
      "hidden_layer_count: 4\n",
      "units: 192\n",
      "activation: tanh\n",
      "lr: 0.0011116670239494002\n",
      "optimizer: adam\n",
      "dropout rate: 0.045000000000000005\n",
      "Score: 0.984722226858139\n",
      "\n",
      "Trial 066 summary\n",
      "Hyperparameters:\n",
      "dropout: False\n",
      "normalize: False\n",
      "hidden_layer_count: 4\n",
      "units: 736\n",
      "activation: tanh\n",
      "lr: 0.00036741928358178535\n",
      "optimizer: adam\n",
      "dropout rate: 0.02\n",
      "Score: 0.984722226858139\n"
     ]
    }
   ],
   "source": [
    "tuner.results_summary()"
   ]
  },
  {
   "cell_type": "code",
   "execution_count": 22,
   "metadata": {},
   "outputs": [
    {
     "data": {
      "text/plain": [
       "{'dropout': False,\n",
       " 'normalize': True,\n",
       " 'hidden_layer_count': 3,\n",
       " 'units': 416,\n",
       " 'activation': 'relu',\n",
       " 'lr': 0.00206871879825104,\n",
       " 'optimizer': 'adam',\n",
       " 'dropout rate': 0.08499999999999999}"
      ]
     },
     "execution_count": 22,
     "metadata": {},
     "output_type": "execute_result"
    }
   ],
   "source": [
    "best_hps = tuner.get_best_hyperparameters(5)\n",
    "best_hps[0].values"
   ]
  },
  {
   "cell_type": "markdown",
   "metadata": {},
   "source": [
    "Let's get an overview of the structure of the top model (set of parameters) found."
   ]
  },
  {
   "cell_type": "code",
   "execution_count": 23,
   "metadata": {},
   "outputs": [
    {
     "name": "stdout",
     "output_type": "stream",
     "text": [
      "Model: \"sequential\"\n",
      "_________________________________________________________________\n",
      " Layer (type)                Output Shape              Param #   \n",
      "=================================================================\n",
      " dense (Dense)               (None, 416)               27040     \n",
      "                                                                 \n",
      " normalization (Normalizatio  (None, 416)              833       \n",
      " n)                                                              \n",
      "                                                                 \n",
      " dense_1 (Dense)             (None, 416)               173472    \n",
      "                                                                 \n",
      " normalization_1 (Normalizat  (None, 416)              833       \n",
      " ion)                                                            \n",
      "                                                                 \n",
      " dense_2 (Dense)             (None, 416)               173472    \n",
      "                                                                 \n",
      " normalization_2 (Normalizat  (None, 416)              833       \n",
      " ion)                                                            \n",
      "                                                                 \n",
      " dense_3 (Dense)             (None, 10)                4170      \n",
      "                                                                 \n",
      "=================================================================\n",
      "Total params: 380,653\n",
      "Trainable params: 378,154\n",
      "Non-trainable params: 2,499\n",
      "_________________________________________________________________\n"
     ]
    }
   ],
   "source": [
    "# Get list of the top 2 models.\n",
    "models = tuner.get_best_models(num_models=2)\n",
    "# select the first one in the list (this is the best performing model)\n",
    "best_model = models[0] # select the first one\n",
    "# display summary of model training\n",
    "best_model.summary()"
   ]
  },
  {
   "cell_type": "code",
   "execution_count": 24,
   "metadata": {},
   "outputs": [
    {
     "name": "stdout",
     "output_type": "stream",
     "text": [
      "12/12 [==============================] - 0s 2ms/step - loss: 0.0575 - accuracy: 0.9917 - f1: 0.9987 - recall: 0.9974 - precision: 1.0000\n",
      "Loss: 0.05750808119773865 Accuracy: 0.9916666746139526 F1 Score: 0.9986772537231445 Precision: 0.9973958134651184 Recall: 1.0\n"
     ]
    }
   ],
   "source": [
    "(loss,accuracy,f1_score, precision, recall) = best_model.evaluate(X_test, y_test, verbose=1)\n",
    "print(f\"Loss: {loss} Accuracy: {accuracy} F1 Score: {f1_score} Precision: {precision} Recall: {recall}\")"
   ]
  },
  {
   "cell_type": "markdown",
   "metadata": {},
   "source": [
    "Let's look at the confusion matrix...."
   ]
  },
  {
   "cell_type": "code",
   "execution_count": 25,
   "metadata": {
    "tags": []
   },
   "outputs": [
    {
     "name": "stdout",
     "output_type": "stream",
     "text": [
      "[(0, 43), (1, 35), (2, 36), (3, 41), (4, 38), (5, 30), (6, 37), (7, 37), (8, 29), (9, 34)]\n",
      "12/12 [==============================] - 0s 2ms/step\n"
     ]
    },
    {
     "data": {
      "image/png": "[encoded data removed]",
      "text/plain": [
       "<Figure size 700x350 with 2 Axes>"
      ]
     },
     "metadata": {},
     "output_type": "display_data"
    }
   ],
   "source": [
    "from sklearn.metrics import ConfusionMatrixDisplay\n",
    "from sklearn.metrics import confusion_matrix\n",
    "\n",
    "# for reference, list the frequency of each digit found in the y_test data\n",
    "print(sorted(collections.Counter(y_test).items(), key=lambda i: i[0]))\n",
    "      \n",
    "# display the confusion matrix\n",
    "cm = confusion_matrix(y_test, best_model.predict(X_test).argmax(axis=1))\n",
    "disp = ConfusionMatrixDisplay(confusion_matrix=cm)\n",
    "disp.plot(cmap=plt.cm.Blues)\n",
    "plt.show()"
   ]
  }
 ],
 "metadata": {
  "colab": {
   "authorship_tag": "ABX9TyOig4eSm144+FaPk1GKk187",
   "collapsed_sections": [],
   "include_colab_link": true,
   "name": "mnist_compete_3_models.ipynb",
   "provenance": []
  },
  "kernelspec": {
   "display_name": "Python 3 (ipykernel)",
   "language": "python",
   "name": "python3"
  },
  "language_info": {
   "codemirror_mode": {
    "name": "ipython",
    "version": 3
   },
   "file_extension": ".py",
   "mimetype": "text/x-python",
   "name": "python",
   "nbconvert_exporter": "python",
   "pygments_lexer": "ipython3",
   "version": "3.10.10"
  },
  "vscode": {
   "interpreter": {
    "hash": "b056086e24cb5602cbcb82122035cd3d6ee2ccbf5df29c16e348c108b0f83be3"
   }
  }
 },
 "nbformat": 4,
 "nbformat_minor": 4
}
